{
 "cells": [
  {
   "cell_type": "markdown",
   "id": "4b31e3a7",
   "metadata": {},
   "source": [
    "Usaremos o conjunto de dados MNIST, composto de 70 mil imagens pequenas de algarismos escritos à mão por estudantes do ensino médio e funcionários do US Census Bureau. Cada imagem é rotulada com o algarismo que a representa. Esse conjunto tem sido tão estudado que, muitas vezes, é chamado de “hello world” do aprendizado de máquina: sempre que as pessoas apresentam um novo algoritmo de classificação, elas têm curiosidade de conferir como será seu desempenho no MNIST. E sempre que alguém decide estudar aprendizado de máquina, cedo ou tarde, acaba se deparando com o MNIST."
   ]
  },
  {
   "cell_type": "markdown",
   "id": "6710d1bc",
   "metadata": {},
   "source": [
    "# O código a seguir obtém o conjunto de dados do MNIST:"
   ]
  },
  {
   "cell_type": "code",
   "execution_count": 34,
   "id": "a2ce3ef2",
   "metadata": {},
   "outputs": [],
   "source": [
    "from sklearn.datasets import fetch_openml\n",
    "import numpy as np"
   ]
  },
  {
   "cell_type": "code",
   "execution_count": 31,
   "id": "fc34c76b",
   "metadata": {},
   "outputs": [
    {
     "name": "stderr",
     "output_type": "stream",
     "text": [
      "C:\\Users\\MAICO\\anaconda3\\envs\\machine_imobiliario_pj1\\lib\\site-packages\\sklearn\\datasets\\_openml.py:1002: FutureWarning: The default value of `parser` will change from `'liac-arff'` to `'auto'` in 1.4. You can set `parser='auto'` to silence this warning. Therefore, an `ImportError` will be raised from 1.4 if the dataset is dense and pandas is not installed. Note that the pandas parser may return different data types. See the Notes Section in fetch_openml's API doc for details.\n",
      "  warn(\n"
     ]
    },
    {
     "data": {
      "text/plain": [
       "dict_keys(['data', 'target', 'frame', 'categories', 'feature_names', 'target_names', 'DESCR', 'details', 'url'])"
      ]
     },
     "execution_count": 31,
     "metadata": {},
     "output_type": "execute_result"
    }
   ],
   "source": [
    "mnist = fetch_openml('mnist_784', version=1)\n",
    "mnist.keys()"
   ]
  },
  {
   "cell_type": "code",
   "execution_count": 4,
   "id": "c9f27c86",
   "metadata": {},
   "outputs": [],
   "source": [
    "X,y = mnist[\"data\"],mnist[\"target\"]"
   ]
  },
  {
   "cell_type": "code",
   "execution_count": 8,
   "id": "75d1b11b",
   "metadata": {},
   "outputs": [
    {
     "data": {
      "text/plain": [
       "(70000, 784)"
      ]
     },
     "execution_count": 8,
     "metadata": {},
     "output_type": "execute_result"
    }
   ],
   "source": [
    "X.shape # data,contém um array com uma linha por instância e uma coluna por característica."
   ]
  },
  {
   "cell_type": "code",
   "execution_count": 9,
   "id": "df4fecfa",
   "metadata": {},
   "outputs": [
    {
     "data": {
      "text/plain": [
       "(70000,)"
      ]
     },
     "execution_count": 9,
     "metadata": {},
     "output_type": "execute_result"
    }
   ],
   "source": [
    "y.shape # target, contém um array com rótulos"
   ]
  },
  {
   "cell_type": "markdown",
   "id": "b4375cea",
   "metadata": {},
   "source": [
    "Existem 70 mil imagens e cada uma delas apresenta 784 características. Isso ocorre porque cada imagem tem 28 × 28 pixels, e cada característica representa simplesmente a intensidade de um pixel, de 0 (branco) a 255 (preto)."
   ]
  },
  {
   "cell_type": "markdown",
   "id": "c535ea99",
   "metadata": {},
   "source": [
    "Vamos dar uma espiada em um algarismo do conjunto de dados. Tudo que precisa fazer é pegar o vetor da característica de uma instância, remodelá-lo em um array de 28 × 28 e exibi-lo usando a função imshow() da Matplotlib:"
   ]
  },
  {
   "cell_type": "code",
   "execution_count": 20,
   "id": "232709e9",
   "metadata": {},
   "outputs": [],
   "source": [
    "import pandas as pd\n",
    "import matplotlib as mpl\n",
    "import matplotlib.pyplot as plt"
   ]
  },
  {
   "cell_type": "code",
   "execution_count": 33,
   "id": "c4a28ce0",
   "metadata": {},
   "outputs": [
    {
     "data": {
      "text/plain": [
       "pixel1      0.0\n",
       "pixel2      0.0\n",
       "pixel3      0.0\n",
       "pixel4      0.0\n",
       "pixel5      0.0\n",
       "           ... \n",
       "pixel780    0.0\n",
       "pixel781    0.0\n",
       "pixel782    0.0\n",
       "pixel783    0.0\n",
       "pixel784    0.0\n",
       "Name: 0, Length: 784, dtype: float64"
      ]
     },
     "execution_count": 33,
     "metadata": {},
     "output_type": "execute_result"
    }
   ],
   "source": [
    "X.iloc[0]"
   ]
  },
  {
   "cell_type": "code",
   "execution_count": 39,
   "id": "d528f152",
   "metadata": {
    "scrolled": true
   },
   "outputs": [
    {
     "data": {
      "text/plain": [
       "<function matplotlib.pyplot.show(close=None, block=None)>"
      ]
     },
     "execution_count": 39,
     "metadata": {},
     "output_type": "execute_result"
    },
    {
     "data": {
      "image/png": "[encoded data removed]",
      "text/plain": [
       "<Figure size 640x480 with 1 Axes>"
      ]
     },
     "metadata": {},
     "output_type": "display_data"
    }
   ],
   "source": [
    "some_digit = np.array(X.iloc[0])\n",
    "some_digit_image = some_digit.reshape(28,28)\n",
    "plt.imshow(some_digit_image, cmap=\"binary\")\n",
    "plt.axis(\"off\")\n",
    "plt.show"
   ]
  },
  {
   "cell_type": "code",
   "execution_count": 40,
   "id": "aa837dc1",
   "metadata": {},
   "outputs": [
    {
     "data": {
      "text/plain": [
       "'5'"
      ]
     },
     "execution_count": 40,
     "metadata": {},
     "output_type": "execute_result"
    }
   ],
   "source": [
    "y[0] # está como string"
   ]
  },
  {
   "cell_type": "markdown",
   "id": "334703b9",
   "metadata": {},
   "source": [
    "O algarismo parece com um 5, e é justamente isso o que o rótulo nos informa"
   ]
  },
  {
   "cell_type": "markdown",
   "id": "110907c6",
   "metadata": {},
   "source": [
    "# Convertendo os rótulos para inteiros"
   ]
  },
  {
   "cell_type": "code",
   "execution_count": 42,
   "id": "f51e0d01",
   "metadata": {},
   "outputs": [
    {
     "data": {
      "text/plain": [
       "5"
      ]
     },
     "execution_count": 42,
     "metadata": {},
     "output_type": "execute_result"
    }
   ],
   "source": [
    "y = y.astype(np.uint8)\n",
    "y[0] # convertido"
   ]
  },
  {
   "cell_type": "markdown",
   "id": "75266ef7",
   "metadata": {},
   "source": [
    "# Conjunto de testes e treinamento"
   ]
  },
  {
   "cell_type": "markdown",
   "id": "b2666bbc",
   "metadata": {},
   "source": [
    "O conjunto de dados MNIST, na verdade, já está dividido em um conjunto de treinamento (as primeiras 60 mil imagens) e em um conjunto de teste (as últimas 10 mil imagens): "
   ]
  },
  {
   "cell_type": "code",
   "execution_count": 43,
   "id": "09e433ec",
   "metadata": {},
   "outputs": [],
   "source": [
    "X_train, X_test, y_train, y_test = X[:60000], X[60000:], y[:60000], y[60000:]"
   ]
  },
  {
   "cell_type": "markdown",
   "id": "e0089a56",
   "metadata": {},
   "source": [
    "O conjunto de treinamento já está embaralhado, o que é bom, pois isso assegura que todos os folds de validação cruzada serão semelhantes (você não quer que um fold perca alguns algarismos)."
   ]
  },
  {
   "cell_type": "markdown",
   "id": "1e3bd9bc",
   "metadata": {},
   "source": [
    "# Treinando um classificador binário"
   ]
  },
  {
   "cell_type": "markdown",
   "id": "f5d2dc45",
   "metadata": {},
   "source": [
    "Inicialmente irei tentar identificar somente um algarismo — por exemplo, o número 5. Este “5-detector” será um exemplo de classificador binário capaz de fazer distinções entre apenas duas classes, 5 e não-5. Vamos criar os vetores-alvo para essa tarefa de classificação:"
   ]
  },
  {
   "cell_type": "code",
   "execution_count": 44,
   "id": "c661888e",
   "metadata": {},
   "outputs": [],
   "source": [
    "y_train_5 = (y_train == 5) # True pora todos os 5, False para os outros algarismos\n",
    "y_test_5 = (y_test == 5)"
   ]
  },
  {
   "cell_type": "markdown",
   "id": "3d23e1df",
   "metadata": {},
   "source": [
    "Agora, vamos escolher um classificador e treiná-lo. Um bom ponto de partida é um classificador gradiente descendente estocástico (SGD), usando a classe SGDClassifier da Scikit-Learn.\n",
    "\n",
    "Isso ocorre em parte porque o SGD lida com instâncias de treinamento de forma independente, uma de cada vez (o que também torna o SGD adequado para o aprendizado online)."
   ]
  },
  {
   "cell_type": "markdown",
   "id": "b35e0118",
   "metadata": {},
   "source": [
    "### Ciando um SGDClassifier e treiná-lo em todo o conjunto de treinamento:"
   ]
  },
  {
   "cell_type": "code",
   "execution_count": 45,
   "id": "e3d5ebe7",
   "metadata": {},
   "outputs": [],
   "source": [
    "from sklearn.linear_model import SGDClassifier"
   ]
  },
  {
   "cell_type": "code",
   "execution_count": 46,
   "id": "4d97164a",
   "metadata": {},
   "outputs": [
    {
     "data": {
      "text/html": [
       "<style>#sk-container-id-1 {color: black;}#sk-container-id-1 pre{padding: 0;}#sk-container-id-1 div.sk-toggleable {background-color: white;}#sk-container-id-1 label.sk-toggleable__label {cursor: pointer;display: block;width: 100%;margin-bottom: 0;padding: 0.3em;box-sizing: border-box;text-align: center;}#sk-container-id-1 label.sk-toggleable__label-arrow:before {content: \"▸\";float: left;margin-right: 0.25em;color: #696969;}#sk-container-id-1 label.sk-toggleable__label-arrow:hover:before {color: black;}#sk-container-id-1 div.sk-estimator:hover label.sk-toggleable__label-arrow:before {color: black;}#sk-container-id-1 div.sk-toggleable__content {max-height: 0;max-width: 0;overflow: hidden;text-align: left;background-color: #f0f8ff;}#sk-container-id-1 div.sk-toggleable__content pre {margin: 0.2em;color: black;border-radius: 0.25em;background-color: #f0f8ff;}#sk-container-id-1 input.sk-toggleable__control:checked~div.sk-toggleable__content {max-height: 200px;max-width: 100%;overflow: auto;}#sk-container-id-1 input.sk-toggleable__control:checked~label.sk-toggleable__label-arrow:before {content: \"▾\";}#sk-container-id-1 div.sk-estimator input.sk-toggleable__control:checked~label.sk-toggleable__label {background-color: #d4ebff;}#sk-container-id-1 div.sk-label input.sk-toggleable__control:checked~label.sk-toggleable__label {background-color: #d4ebff;}#sk-container-id-1 input.sk-hidden--visually {border: 0;clip: rect(1px 1px 1px 1px);clip: rect(1px, 1px, 1px, 1px);height: 1px;margin: -1px;overflow: hidden;padding: 0;position: absolute;width: 1px;}#sk-container-id-1 div.sk-estimator {font-family: monospace;background-color: #f0f8ff;border: 1px dotted black;border-radius: 0.25em;box-sizing: border-box;margin-bottom: 0.5em;}#sk-container-id-1 div.sk-estimator:hover {background-color: #d4ebff;}#sk-container-id-1 div.sk-parallel-item::after {content: \"\";width: 100%;border-bottom: 1px solid gray;flex-grow: 1;}#sk-container-id-1 div.sk-label:hover label.sk-toggleable__label {background-color: #d4ebff;}#sk-container-id-1 div.sk-serial::before {content: \"\";position: absolute;border-left: 1px solid gray;box-sizing: border-box;top: 0;bottom: 0;left: 50%;z-index: 0;}#sk-container-id-1 div.sk-serial {display: flex;flex-direction: column;align-items: center;background-color: white;padding-right: 0.2em;padding-left: 0.2em;position: relative;}#sk-container-id-1 div.sk-item {position: relative;z-index: 1;}#sk-container-id-1 div.sk-parallel {display: flex;align-items: stretch;justify-content: center;background-color: white;position: relative;}#sk-container-id-1 div.sk-item::before, #sk-container-id-1 div.sk-parallel-item::before {content: \"\";position: absolute;border-left: 1px solid gray;box-sizing: border-box;top: 0;bottom: 0;left: 50%;z-index: -1;}#sk-container-id-1 div.sk-parallel-item {display: flex;flex-direction: column;z-index: 1;position: relative;background-color: white;}#sk-container-id-1 div.sk-parallel-item:first-child::after {align-self: flex-end;width: 50%;}#sk-container-id-1 div.sk-parallel-item:last-child::after {align-self: flex-start;width: 50%;}#sk-container-id-1 div.sk-parallel-item:only-child::after {width: 0;}#sk-container-id-1 div.sk-dashed-wrapped {border: 1px dashed gray;margin: 0 0.4em 0.5em 0.4em;box-sizing: border-box;padding-bottom: 0.4em;background-color: white;}#sk-container-id-1 div.sk-label label {font-family: monospace;font-weight: bold;display: inline-block;line-height: 1.2em;}#sk-container-id-1 div.sk-label-container {text-align: center;}#sk-container-id-1 div.sk-container {/* jupyter's `normalize.less` sets `[hidden] { display: none; }` but bootstrap.min.css set `[hidden] { display: none !important; }` so we also need the `!important` here to be able to override the default hidden behavior on the sphinx rendered scikit-learn.org. See: https://github.com/scikit-learn/scikit-learn/issues/21755 */display: inline-block !important;position: relative;}#sk-container-id-1 div.sk-text-repr-fallback {display: none;}</style><div id=\"sk-container-id-1\" class=\"sk-top-container\"><div class=\"sk-text-repr-fallback\"><pre>SGDClassifier(random_state=42)</pre><b>In a Jupyter environment, please rerun this cell to show the HTML representation or trust the notebook. <br />On GitHub, the HTML representation is unable to render, please try loading this page with nbviewer.org.</b></div><div class=\"sk-container\" hidden><div class=\"sk-item\"><div class=\"sk-estimator sk-toggleable\"><input class=\"sk-toggleable__control sk-hidden--visually\" id=\"sk-estimator-id-1\" type=\"checkbox\" checked><label for=\"sk-estimator-id-1\" class=\"sk-toggleable__label sk-toggleable__label-arrow\">SGDClassifier</label><div class=\"sk-toggleable__content\"><pre>SGDClassifier(random_state=42)</pre></div></div></div></div></div>"
      ],
      "text/plain": [
       "SGDClassifier(random_state=42)"
      ]
     },
     "execution_count": 46,
     "metadata": {},
     "output_type": "execute_result"
    }
   ],
   "source": [
    "sgd_clf = SGDClassifier(random_state=42)\n",
    "sgd_clf.fit(X_train, y_train_5)"
   ]
  },
  {
   "cell_type": "markdown",
   "id": "c24ef09d",
   "metadata": {},
   "source": [
    "O SGDClassifier depende da aleatoriedade durante o treinamento (por isso, o nome “estocástico”). Caso queira resultados que possam ser reproduzidos, defina o parâmetro random_state."
   ]
  },
  {
   "cell_type": "markdown",
   "id": "f7fbdda8",
   "metadata": {},
   "source": [
    "### Usando para detectar imagens do número 5: "
   ]
  },
  {
   "cell_type": "code",
   "execution_count": 47,
   "id": "a37c5837",
   "metadata": {},
   "outputs": [
    {
     "name": "stderr",
     "output_type": "stream",
     "text": [
      "C:\\Users\\MAICO\\anaconda3\\envs\\machine_imobiliario_pj1\\lib\\site-packages\\sklearn\\base.py:464: UserWarning: X does not have valid feature names, but SGDClassifier was fitted with feature names\n",
      "  warnings.warn(\n"
     ]
    },
    {
     "data": {
      "text/plain": [
       "array([ True])"
      ]
     },
     "execution_count": 47,
     "metadata": {},
     "output_type": "execute_result"
    }
   ],
   "source": [
    "sgd_clf.predict([some_digit])"
   ]
  },
  {
   "cell_type": "markdown",
   "id": "61ca5c2b",
   "metadata": {},
   "source": [
    "O classificador estima que esta imagem representa um 5 (True). Pelo visto, ele estimou corretamente! Agora, avaliaremos o desempenho desse modelo."
   ]
  },
  {
   "cell_type": "markdown",
   "id": "be0027e9",
   "metadata": {},
   "source": [
    "# Cálculo de desempenho"
   ]
  },
  {
   "cell_type": "markdown",
   "id": "f635cc4b",
   "metadata": {},
   "source": [
    "## Calculando a acurácia com a validação cruzada"
   ]
  },
  {
   "cell_type": "markdown",
   "id": "ed4e02a9",
   "metadata": {},
   "source": [
    "Usaremos a função cross_val_score() para avaliar o seu modelo SGDClassifier com o método k-fold de validação cruzada em três partes.\n",
    "\n",
    "O método k-fold de validação cruzada significa dividir o conjunto de treinamento em k-folds (neste caso, três) e, depois, prever e avaliar as predições em cada conjunto utilizando um modelo treinado nos folds restantes"
   ]
  },
  {
   "cell_type": "code",
   "execution_count": 66,
   "id": "99825d76",
   "metadata": {},
   "outputs": [],
   "source": [
    "from sklearn.model_selection import cross_val_score"
   ]
  },
  {
   "cell_type": "code",
   "execution_count": 68,
   "id": "b5697e22",
   "metadata": {},
   "outputs": [
    {
     "data": {
      "text/plain": [
       "array([0.95035, 0.96035, 0.9604 ])"
      ]
     },
     "execution_count": 68,
     "metadata": {},
     "output_type": "execute_result"
    }
   ],
   "source": [
    "cross_val_score(sgd_clf, X_train, y_train_5, cv=3, scoring=\"accuracy\")"
   ]
  },
  {
   "cell_type": "markdown",
   "id": "b32fc65d",
   "metadata": {},
   "source": [
    "Acurácia acima de 95% (proporção de predições corretas) em todos os folds de validação cruzada? Isso não é um espetáculo? Antes que você fique muito entusiasmado, vejamos um classificador que deixa a desejar e somente classifica todas as imagens na classe “não-5”:"
   ]
  },
  {
   "cell_type": "code",
   "execution_count": 69,
   "id": "704ff9a1",
   "metadata": {},
   "outputs": [],
   "source": [
    "from sklearn.base import BaseEstimator"
   ]
  },
  {
   "cell_type": "code",
   "execution_count": 77,
   "id": "2097e0ed",
   "metadata": {},
   "outputs": [],
   "source": [
    "class Never5Classifier(BaseEstimator):\n",
    "    def fit(self, X, y=None):\n",
    "        pass\n",
    "    \n",
    "    def predict(self, X):\n",
    "        return np.zeros((len(X), 1), dtype=bool)"
   ]
  },
  {
   "cell_type": "code",
   "execution_count": 79,
   "id": "a153265e",
   "metadata": {},
   "outputs": [
    {
     "data": {
      "text/plain": [
       "array([0.91125, 0.90855, 0.90915])"
      ]
     },
     "execution_count": 79,
     "metadata": {},
     "output_type": "execute_result"
    }
   ],
   "source": [
    "# Estimando a acurácia deste modelo\n",
    "never_5_clf = Never5Classifier()\n",
    "cross_val_score(never_5_clf, X_train, y_train_5, cv=3, scoring=\"accuracy\")"
   ]
  },
  {
   "cell_type": "markdown",
   "id": "04418cfe",
   "metadata": {},
   "source": [
    "Mais de 90% de acurácia! Isso acontece simplesmente porque apenas cerca de 10% das imagens são “5”, assim sendo, caso sempre estime que uma imagem não é um 5, terá razão em cerca de 90% das vezes."
   ]
  },
  {
   "cell_type": "markdown",
   "id": "6e76a3db",
   "metadata": {},
   "source": [
    "### Conclusão:\n",
    "Isso demonstra por que a acurácia geralmente não é a medida de desempenho preferida para os classificadores, sobretudo quando você está manipulando conjuntos de dados assimétricos (ou seja, quando algumas classes são muito mais frequentes que outras)."
   ]
  },
  {
   "cell_type": "markdown",
   "id": "40861353",
   "metadata": {},
   "source": [
    "# Matriz de confusão"
   ]
  },
  {
   "cell_type": "code",
   "execution_count": null,
   "id": "6cf183ee",
   "metadata": {},
   "outputs": [],
   "source": []
  }
 ],
 "metadata": {
  "kernelspec": {
   "display_name": "Python 3 (ipykernel)",
   "language": "python",
   "name": "python3"
  },
  "language_info": {
   "codemirror_mode": {
    "name": "ipython",
    "version": 3
   },
   "file_extension": ".py",
   "mimetype": "text/x-python",
   "name": "python",
   "nbconvert_exporter": "python",
   "pygments_lexer": "ipython3",
   "version": "3.9.18"
  }
 },
 "nbformat": 4,
 "nbformat_minor": 5
}

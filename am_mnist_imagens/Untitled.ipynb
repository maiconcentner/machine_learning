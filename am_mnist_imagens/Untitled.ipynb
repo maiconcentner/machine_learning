{
 "cells": [
  {
   "cell_type": "markdown",
   "id": "75148c31",
   "metadata": {},
   "source": [
    "Usaremos o conjunto de dados MNIST, composto de 70 mil imagens pequenas de algarismos escritos à mão por estudantes do ensino médio e funcionários do US Census Bureau. Cada imagem é rotulada com o algarismo que a representa. Esse conjunto tem sido tão estudado que, muitas vezes, é chamado de “hello world” do aprendizado de máquina: sempre que as pessoas apresentam um novo algoritmo de classificação, elas têm curiosidade de conferir como será seu desempenho no MNIST. E sempre que alguém decide estudar aprendizado de máquina, cedo ou tarde, acaba se deparando com o MNIST."
   ]
  },
  {
   "cell_type": "markdown",
   "id": "518dc621",
   "metadata": {},
   "source": [
    "# O código a seguir obtém o conjunto de dados do MNIST:"
   ]
  },
  {
   "cell_type": "code",
   "execution_count": 34,
   "id": "29ed35c3",
   "metadata": {},
   "outputs": [],
   "source": [
    "from sklearn.datasets import fetch_openml\n",
    "import numpy as np"
   ]
  },
  {
   "cell_type": "code",
   "execution_count": 31,
   "id": "255f940d",
   "metadata": {},
   "outputs": [
    {
     "name": "stderr",
     "output_type": "stream",
     "text": [
      "C:\\Users\\MAICO\\anaconda3\\envs\\machine_imobiliario_pj1\\lib\\site-packages\\sklearn\\datasets\\_openml.py:1002: FutureWarning: The default value of `parser` will change from `'liac-arff'` to `'auto'` in 1.4. You can set `parser='auto'` to silence this warning. Therefore, an `ImportError` will be raised from 1.4 if the dataset is dense and pandas is not installed. Note that the pandas parser may return different data types. See the Notes Section in fetch_openml's API doc for details.\n",
      "  warn(\n"
     ]
    },
    {
     "data": {
      "text/plain": [
       "dict_keys(['data', 'target', 'frame', 'categories', 'feature_names', 'target_names', 'DESCR', 'details', 'url'])"
      ]
     },
     "execution_count": 31,
     "metadata": {},
     "output_type": "execute_result"
    }
   ],
   "source": [
    "mnist = fetch_openml('mnist_784', version=1)\n",
    "mnist.keys()"
   ]
  },
  {
   "cell_type": "code",
   "execution_count": 4,
   "id": "ec1d7d33",
   "metadata": {},
   "outputs": [],
   "source": [
    "X,y = mnist[\"data\"],mnist[\"target\"]"
   ]
  },
  {
   "cell_type": "code",
   "execution_count": 8,
   "id": "d514f81e",
   "metadata": {},
   "outputs": [
    {
     "data": {
      "text/plain": [
       "(70000, 784)"
      ]
     },
     "execution_count": 8,
     "metadata": {},
     "output_type": "execute_result"
    }
   ],
   "source": [
    "X.shape # data,contém um array com uma linha por instância e uma coluna por característica."
   ]
  },
  {
   "cell_type": "code",
   "execution_count": 9,
   "id": "bc96e2f5",
   "metadata": {},
   "outputs": [
    {
     "data": {
      "text/plain": [
       "(70000,)"
      ]
     },
     "execution_count": 9,
     "metadata": {},
     "output_type": "execute_result"
    }
   ],
   "source": [
    "y.shape # target, contém um array com rótulos"
   ]
  },
  {
   "cell_type": "markdown",
   "id": "8ada3a60",
   "metadata": {},
   "source": [
    "Existem 70 mil imagens e cada uma delas apresenta 784 características. Isso ocorre porque cada imagem tem 28 × 28 pixels, e cada característica representa simplesmente a intensidade de um pixel, de 0 (branco) a 255 (preto)."
   ]
  },
  {
   "cell_type": "markdown",
   "id": "e649d288",
   "metadata": {},
   "source": [
    "Vamos dar uma espiada em um algarismo do conjunto de dados. Tudo que precisa fazer é pegar o vetor da característica de uma instância, remodelá-lo em um array de 28 × 28 e exibi-lo usando a função imshow() da Matplotlib:"
   ]
  },
  {
   "cell_type": "code",
   "execution_count": 20,
   "id": "3acd9264",
   "metadata": {},
   "outputs": [],
   "source": [
    "import pandas as pd\n",
    "import matplotlib as mpl\n",
    "import matplotlib.pyplot as plt"
   ]
  },
  {
   "cell_type": "code",
   "execution_count": 33,
   "id": "be994b19",
   "metadata": {},
   "outputs": [
    {
     "data": {
      "text/plain": [
       "pixel1      0.0\n",
       "pixel2      0.0\n",
       "pixel3      0.0\n",
       "pixel4      0.0\n",
       "pixel5      0.0\n",
       "           ... \n",
       "pixel780    0.0\n",
       "pixel781    0.0\n",
       "pixel782    0.0\n",
       "pixel783    0.0\n",
       "pixel784    0.0\n",
       "Name: 0, Length: 784, dtype: float64"
      ]
     },
     "execution_count": 33,
     "metadata": {},
     "output_type": "execute_result"
    }
   ],
   "source": [
    "X.iloc[0]"
   ]
  },
  {
   "cell_type": "code",
   "execution_count": 39,
   "id": "fe489bcf",
   "metadata": {
    "scrolled": true
   },
   "outputs": [
    {
     "data": {
      "text/plain": [
       "<function matplotlib.pyplot.show(close=None, block=None)>"
      ]
     },
     "execution_count": 39,
     "metadata": {},
     "output_type": "execute_result"
    },
    {
     "data": {
      "image/png": "[encoded data removed]",
      "text/plain": [
       "<Figure size 640x480 with 1 Axes>"
      ]
     },
     "metadata": {},
     "output_type": "display_data"
    }
   ],
   "source": [
    "some_digit = np.array(X.iloc[0])\n",
    "some_digit_image = some_digit.reshape(28,28)\n",
    "plt.imshow(some_digit_image, cmap=\"binary\")\n",
    "plt.axis(\"off\")\n",
    "plt.show"
   ]
  },
  {
   "cell_type": "code",
   "execution_count": 40,
   "id": "b5b3c2a7",
   "metadata": {},
   "outputs": [
    {
     "data": {
      "text/plain": [
       "'5'"
      ]
     },
     "execution_count": 40,
     "metadata": {},
     "output_type": "execute_result"
    }
   ],
   "source": [
    "y[0] # está como string"
   ]
  },
  {
   "cell_type": "markdown",
   "id": "04bceb88",
   "metadata": {},
   "source": [
    "O algarismo parece com um 5, e é justamente isso o que o rótulo nos informa"
   ]
  },
  {
   "cell_type": "markdown",
   "id": "07dde8cf",
   "metadata": {},
   "source": [
    "# Convertendo os rótulos para inteiros"
   ]
  },
  {
   "cell_type": "code",
   "execution_count": 42,
   "id": "2f1b15dd",
   "metadata": {},
   "outputs": [
    {
     "data": {
      "text/plain": [
       "5"
      ]
     },
     "execution_count": 42,
     "metadata": {},
     "output_type": "execute_result"
    }
   ],
   "source": [
    "y = y.astype(np.uint8)\n",
    "y[0] # convertido"
   ]
  },
  {
   "cell_type": "markdown",
   "id": "62b0197a",
   "metadata": {},
   "source": [
    "# Conjunto de testes e treinamento"
   ]
  },
  {
   "cell_type": "markdown",
   "id": "f58fcc2c",
   "metadata": {},
   "source": [
    "O conjunto de dados MNIST, na verdade, já está dividido em um conjunto de treinamento (as primeiras 60 mil imagens) e em um conjunto de teste (as últimas 10 mil imagens): "
   ]
  },
  {
   "cell_type": "code",
   "execution_count": 43,
   "id": "0c4d12ba",
   "metadata": {},
   "outputs": [],
   "source": [
    "X_train, X_test, y_train, y_test = X[:60000], X[60000:], y[:60000], y[60000:]"
   ]
  },
  {
   "cell_type": "markdown",
   "id": "c0d0fd98",
   "metadata": {},
   "source": [
    "O conjunto de treinamento já está embaralhado, o que é bom, pois isso assegura que todos os folds de validação cruzada serão semelhantes (você não quer que um fold perca alguns algarismos)."
   ]
  }
 ],
 "metadata": {
  "kernelspec": {
   "display_name": "Python 3 (ipykernel)",
   "language": "python",
   "name": "python3"
  },
  "language_info": {
   "codemirror_mode": {
    "name": "ipython",
    "version": 3
   },
   "file_extension": ".py",
   "mimetype": "text/x-python",
   "name": "python",
   "nbconvert_exporter": "python",
   "pygments_lexer": "ipython3",
   "version": "3.9.18"
  }
 },
 "nbformat": 4,
 "nbformat_minor": 5
}
